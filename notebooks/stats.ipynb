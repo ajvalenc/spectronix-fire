{
 "cells": [
  {
   "cell_type": "code",
   "execution_count": 1,
   "metadata": {},
   "outputs": [],
   "source": [
    "import numpy as np\n",
    "import cv2 \n",
    "import os\n",
    "import matplotlib.pyplot as plt"
   ]
  },
  {
   "cell_type": "code",
   "execution_count": 16,
   "metadata": {},
   "outputs": [],
   "source": [
    "directory1 = \"/home/ajvalenc/Datasets/spectronix/thermal/fire/flames\"\n",
    "directory2 = \"/home/ajvalenc/Datasets/spectronix/thermal/fire/new/blood_fire_test_02_MicroCalibir_M0000334/\"\n",
    "filenames1 = os.listdir(directory1)\n",
    "filenames2 = os.listdir(directory2)"
   ]
  },
  {
   "cell_type": "code",
   "execution_count": 18,
   "metadata": {},
   "outputs": [],
   "source": [
    "i = 0\n",
    "lst_max_value1 = []\n",
    "lst_min_value1 = []\n",
    "while i < len(filenames1):\n",
    "    image = cv2.imread(directory1 + \"/\" + filenames1[i], cv2.IMREAD_ANYDEPTH)\n",
    "      \n",
    "    curr_max = np.max(image)\n",
    "    curr_min = np.min(image)\n",
    "    lst_max_value1.append(curr_max)\n",
    "    lst_min_value1.append(curr_min)\n",
    "\n",
    "    i = i + 1"
   ]
  },
  {
   "cell_type": "code",
   "execution_count": 20,
   "metadata": {},
   "outputs": [],
   "source": [
    "i = 0\n",
    "lst_max_value2 = []\n",
    "lst_min_value2 = []\n",
    "while i < len(filenames2):\n",
    "    image = cv2.imread(directory2 + \"/\" + filenames2[i], cv2.IMREAD_ANYDEPTH)\n",
    "      \n",
    "    curr_max = np.max(image)\n",
    "    curr_min = np.min(image)\n",
    "    lst_max_value2.append(curr_max)\n",
    "    lst_min_value2.append(curr_min)\n",
    "\n",
    "    i = i + 1"
   ]
  },
  {
   "cell_type": "code",
   "execution_count": 21,
   "metadata": {},
   "outputs": [],
   "source": [
    "max_values1 = np.array(lst_max_value1)\n",
    "min_values1 = np.array(lst_min_value1)\n",
    "max_values2 = np.array(lst_max_value2)\n",
    "min_values2 = np.array(lst_min_value2)"
   ]
  },
  {
   "cell_type": "code",
   "execution_count": 23,
   "metadata": {},
   "outputs": [],
   "source": [
    " # compute stats 1\n",
    "max_value1 = np.array(max_values1).max()\n",
    "min_value1 = np.array(min_values1).min()\n",
    "avg_max_value1 = np.array(max_values1).mean()\n",
    "med_max_value1 = np.median(np.array(max_values1))\n",
    "avg_min_value1 = np.array(min_values1).mean()\n",
    "med_min_value1 = np.median(np.array(min_values1))\n",
    "\n",
    "# compute stats 2\n",
    "max_value2 = np.array(max_values2).max()\n",
    "min_value2 = np.array(min_values2).min()\n",
    "avg_max_value2 = np.array(max_values2).mean()\n",
    "med_max_value2 = np.median(np.array(max_values2))\n",
    "avg_min_value2 = np.array(min_values2).mean()\n",
    "med_min_value2 = np.median(np.array(min_values2))"
   ]
  },
  {
   "cell_type": "code",
   "execution_count": 59,
   "metadata": {},
   "outputs": [
    {
     "name": "stdout",
     "output_type": "stream",
     "text": [
      "Number of images 4613\n",
      "Max value 64520\n",
      "Min value 28812\n",
      "Average max 32123.886407977454\n",
      "Average min 28895.880338174724\n",
      "Median max 30820.0\n",
      "Median min 28846.0\n",
      "\n",
      "Number of images 968\n",
      "Max value 30909\n",
      "Min value 28777\n",
      "Average max 30129.221074380166\n",
      "Average min 28798.24896694215\n",
      "Median max 30497.5\n",
      "Median min 28792.0\n"
     ]
    }
   ],
   "source": [
    "print(\"Number of images\", len(filenames1))\n",
    "print(\"Max value\", max_value1)\n",
    "print(\"Min value\", min_value1)\n",
    "print(\"Average max\", avg_max_value1)\n",
    "print(\"Average min\", avg_min_value1)\n",
    "print(\"Median max\", med_max_value1)\n",
    "print(\"Median min\", med_min_value1)\n",
    "\n",
    "print(\"\\nNumber of images\", len(filenames2))\n",
    "print(\"Max value\", max_value2)\n",
    "print(\"Min value\", min_value2)\n",
    "print(\"Average max\", avg_max_value2)\n",
    "print(\"Average min\", avg_min_value2)\n",
    "print(\"Median max\", med_max_value2)\n",
    "print(\"Median min\", med_min_value2)"
   ]
  },
  {
   "cell_type": "code",
   "execution_count": 110,
   "metadata": {},
   "outputs": [
    {
     "data": {
      "image/png": "[encoded data removed]",
      "text/plain": [
       "<Figure size 640x480 with 2 Axes>"
      ]
     },
     "metadata": {},
     "output_type": "display_data"
    }
   ],
   "source": [
    "#sets up the axis and gets histogram data\n",
    "colors = ['blue','orange']\n",
    "y1 = max_values1\n",
    "y2 = max_values2\n",
    "\n",
    "fig, ax1 = plt.subplots()\n",
    "ax2 = ax1.twinx()\n",
    "ax1.hist([y1, y2], color=colors)\n",
    "n, bins, patches = ax1.hist([y1,y2], bins=50, density=True)\n",
    "ax1.cla() #clear the axis\n",
    "\n",
    "#plots the histogram data\n",
    "width = (bins[1] - bins[0]) * 0.4\n",
    "bins_shifted = bins + width\n",
    "ax1.bar(bins[:-1], n[0], width, align='edge', color=colors[0])\n",
    "ax2.bar(bins_shifted[:-1], n[1], width, align='edge', color=colors[1])\n",
    "\n",
    "#finishes the plot\n",
    "ax1.set_ylabel(\"Density\", color=colors[0])\n",
    "ax2.set_ylabel(\"Density\", color=colors[1])\n",
    "ax1.tick_params('y', colors=colors[0])\n",
    "ax2.tick_params('y', colors=colors[1])\n",
    "plt.tight_layout()\n",
    "plt.show()"
   ]
  },
  {
   "cell_type": "code",
   "execution_count": 107,
   "metadata": {},
   "outputs": [
    {
     "data": {
      "text/plain": [
       "array([29372.  , 30074.96, 30777.92, 31480.88, 32183.84, 32886.8 ,\n",
       "       33589.76, 34292.72, 34995.68, 35698.64, 36401.6 , 37104.56,\n",
       "       37807.52, 38510.48, 39213.44, 39916.4 , 40619.36, 41322.32,\n",
       "       42025.28, 42728.24, 43431.2 , 44134.16, 44837.12, 45540.08,\n",
       "       46243.04, 46946.  , 47648.96, 48351.92, 49054.88, 49757.84,\n",
       "       50460.8 , 51163.76, 51866.72, 52569.68, 53272.64, 53975.6 ,\n",
       "       54678.56, 55381.52, 56084.48, 56787.44, 57490.4 , 58193.36,\n",
       "       58896.32, 59599.28, 60302.24, 61005.2 , 61708.16, 62411.12,\n",
       "       63114.08, 63817.04, 64520.  ])"
      ]
     },
     "execution_count": 107,
     "metadata": {},
     "output_type": "execute_result"
    }
   ],
   "source": [
    "bins"
   ]
  }
 ],
 "metadata": {
  "kernelspec": {
   "display_name": "Python 3",
   "language": "python",
   "name": "python3"
  },
  "language_info": {
   "codemirror_mode": {
    "name": "ipython",
    "version": 3
   },
   "file_extension": ".py",
   "mimetype": "text/x-python",
   "name": "python",
   "nbconvert_exporter": "python",
   "pygments_lexer": "ipython3",
   "version": "3.8.16"
  },
  "orig_nbformat": 4,
  "vscode": {
   "interpreter": {
    "hash": "916dbcbb3f70747c44a77c7bcd40155683ae19c65e1c03b4aa3499c5328201f1"
   }
  }
 },
 "nbformat": 4,
 "nbformat_minor": 2
}
